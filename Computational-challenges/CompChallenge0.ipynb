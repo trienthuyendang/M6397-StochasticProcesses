{
 "cells": [
  {
   "cell_type": "code",
   "execution_count": 1,
   "metadata": {},
   "outputs": [
    {
     "name": "stdout",
     "output_type": "stream",
     "text": [
      "Group 1: [16  1  5 10 19]\n",
      "Group 2: [18 11  8  9 13]\n",
      "Group 3: [ 4  7  6 12 15]\n",
      "Group 4: [ 2 17 14  3]\n"
     ]
    }
   ],
   "source": [
    "import numpy as np\n",
    "rng = np.random.default_rng()\n",
    "stu = rng.permutation(19)+1\n",
    "count = 0\n",
    "for i in range(1,5):\n",
    "    print(\"Group {n}: {s}\".format(n=i, s=stu[5*count : 5*(count+1)]))\n",
    "    count = count+1"
   ]
  }
 ],
 "metadata": {
  "kernelspec": {
   "display_name": "Python 3",
   "language": "python",
   "name": "python3"
  },
  "language_info": {
   "codemirror_mode": {
    "name": "ipython",
    "version": 3
   },
   "file_extension": ".py",
   "mimetype": "text/x-python",
   "name": "python",
   "nbconvert_exporter": "python",
   "pygments_lexer": "ipython3",
   "version": "3.8.5"
  }
 },
 "nbformat": 4,
 "nbformat_minor": 4
}
