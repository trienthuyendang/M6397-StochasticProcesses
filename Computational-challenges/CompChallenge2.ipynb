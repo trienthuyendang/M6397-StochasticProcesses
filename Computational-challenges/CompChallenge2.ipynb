{
 "cells": [
  {
   "cell_type": "markdown",
   "metadata": {},
   "source": [
    "# Computational Challenge 2\n",
    "*Model 1:* Quasi-stationary distributions in the birth-death model.\n",
    "\n",
    "\n",
    "*Group 2:* Daniel, Thuyen, Danial, and Manoj."
   ]
  },
  {
   "cell_type": "code",
   "execution_count": 1,
   "metadata": {},
   "outputs": [
    {
     "data": {

      "text/plain": [
       "<Figure size 432x288 with 1 Axes>"
      ]
     },
     "metadata": {},
     "output_type": "display_data"
    }
   ],
   "source": [
    "import numpy as np\n",
    "import seaborn as sns; sns.set()\n",
    "import pandas as pd\n",
    "import matplotlib.pyplot as plt\n",
    "\n",
    "# sns.set(style=\"whitegrid\")\n",
    "\n",
    "\n",

    "\n",
    "# Function: Change of Population \n",
    "def changePop(b,d):\n",
    "    r = np.random.random_sample()\n",
    "    if r < b:\n",
    "        return 1\n",
    "    elif r > (b+d):\n",
    "        return 0\n",
    "    else:\n",
    "        return -1\n",
    "\n",
    "    \n",
    "    \n",
    "# Function: Find Probability of Birth/Dearth/None\n",
    "def findProp(i):\n",
    "    b = r*(i - np.power(i,2)/N)\n",
    "    d = r*np.power(i,2)/N\n",
    "    return b,d\n",
    "\n",
    "\n",
    "\n",
    "# Generate and plot one population trajectory\n",

    "#--- Intial Parameters\n",
    "# r = 0.004\n",
    "# K = 50\n",
    "r = 0.015\n",
    "K = 8\n",
    "t = 8000\n",
    "P0 = 100 # Initial population\n",
    "\n",
    "N = 2*K\n",
    "pop = np.zeros(t)\n",
    "pop[0] = P0\n",
    "\n",
    "#--- Generate population\n",

    "for k in range(t-1):\n",
    "    if pop[k] < 1:\n",
    "        break\n",
    "    else:\n",
    "        b,d = findProp(pop[k])\n",
    "        pop[k+1] = pop[k] + changePop(b,d)\n",
    "\n",
    "\n",

    "#--- Plot\n",

    "time = np.linspace(0,t-1,t)\n",
    "time_pop = pd.DataFrame(pop,time,[\"Population\"])\n",
    "time_pop = time_pop.rolling(7).mean()\n",
    "#ax = sns.lineplot(x=\"Time\", y=\"Population\", data=time_pop, palette=\"tab10\", linewidth=2.5)\n",
    "ax = sns.lineplot(data=time_pop,palette=\"tab10\", linewidth=2.5)\n",
    "ax.set(xlabel='Time', ylabel='Population')\n",
    "plt.show()\n",

    "\n",
    "\n",
    "\n",
    "# Find the extinction time\n",
    "while "

   ]
  }
 ],
 "metadata": {
  "kernelspec": {
   "display_name": "Python 3",
   "language": "python",
   "name": "python3"
  },
  "language_info": {
   "codemirror_mode": {
    "name": "ipython",
    "version": 3
   },
   "file_extension": ".py",
   "mimetype": "text/x-python",
   "name": "python",
   "nbconvert_exporter": "python",
   "pygments_lexer": "ipython3",
   "version": "3.8.5"
  }
 },
 "nbformat": 4,
 "nbformat_minor": 4
}
