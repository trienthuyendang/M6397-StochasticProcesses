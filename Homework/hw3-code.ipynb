{
 "cells": [
  {
   "cell_type": "code",
   "execution_count": 1,
   "metadata": {},
   "outputs": [],
   "source": [
    "# Import packages needed.\n",
    "import numpy as np\n",
    "import random\n",
    "from scipy.special import gamma, factorial\n",
    "import matplotlib.pyplot as plt\n",
    "import collections\n",
    "import tqdm\n",
    "from numba import jit\n",
    "from numba import njit, prange\n",
    "import time\n",
    "from scipy.integrate import solve_ivp\n",
    "import pandas as pd\n",
    "import seaborn as sns\n",
    "sns.set()"
   ]
  },
  {
   "cell_type": "code",
   "execution_count": 2,
   "metadata": {},
   "outputs": [],
   "source": [
    "# Poisson spike train generation.\n",
    "def inhomo_PoissonSpikeTrain(dt,T,rx,Total_time):\n",
    "    rand_unis = np.random.uniform(0,1,(1,len(Total_time)))\n",
    "    num_spikes = 0\n",
    "    spikes_x = np.zeros_like(Total_time)\n",
    "    spike_time_x = np.zeros((int(T*10**9)))\n",
    "    for i in range(len(Total_time)):\n",
    "        prob = rx[i] * dt # rx is time-dependent rate.\n",
    "        if (prob > rand_unis[0,i]):\n",
    "            spike_time_x[num_spikes] = Total_time[i]\n",
    "            spikes_x[i] = 1\n",
    "            num_spikes += 1\n",
    "        else:\n",
    "            spikes_x[i] = 0\n",
    "    spike_time_x = spike_time_x[0:num_spikes]\n",
    "    return spike_time_x, spikes_x"
   ]
  },
  {
   "cell_type": "code",
   "execution_count": 3,
   "metadata": {},
   "outputs": [],
   "source": [
    "def EulerMethod_poisson_input_balanced(spikes_x1,spikes_x2,u_rest,u_thres,dt,tau_m,tau_v,R,w,a,b,T,Total_time):\n",
    "    nspike = 0\n",
    "    maxns=round(T*10**9); # max numbers of spikes\n",
    "    s = np.zeros((1,maxns))\n",
    "    u = np.zeros_like(Total_time)\n",
    "    u_saved = np.zeros_like(Total_time)\n",
    "    v = np.zeros_like(Total_time)\n",
    "    alpha_spikes = 0\n",
    "    \n",
    "    for i in range(len(Total_time)-1): \n",
    "\n",
    "        # Euler update to u - mem pot\n",
    "        u[i+1] = u[i] + (dt/tau_m)*(-u[i] - R*v[i] + w * R * spikes_x1[i] +  w * R * spikes_x2[i] )\n",
    "                   \n",
    "        # Euler update to v - adap var\n",
    "        v[i+1] = v[i] + (dt/tau_v)*(a*u[i] - v[i] + b*tau_v*alpha_spikes)\n",
    "\n",
    "        # If there are spikes\n",
    "        if(u[i+1]>=u_thres):\n",
    "            s[0,nspike]=Total_time[i]       \n",
    "\n",
    "            # Update cumulative number of spikes\n",
    "            nspike+=1\n",
    "        \n",
    "            # This makes plots of u(t) look better.\n",
    "            # All action potentials reach u_thres exactly. \n",
    "            u_saved[i+1]=u_thres\n",
    "\n",
    "            # Reset mem pot.\n",
    "            u[i+1]=u_rest\n",
    "            \n",
    "            alpha_spikes = 1\n",
    "        else:\n",
    "            alpha_spikes = 0\n",
    "            u_saved[i+1]=u[i+1]\n",
    "\n",
    "    s=s[0,0:nspike] # Get rid of padding in s\n",
    "    \n",
    "    return u, u_saved, v, s"
   ]
  },
  {
   "cell_type": "code",
   "execution_count": 6,
   "metadata": {},
   "outputs": [
    {
     "data": {
      "image/png": "[encoded data removed]",
      "text/plain": [
       "<Figure size 432x288 with 1 Axes>"
      ]
     },
     "metadata": {},
     "output_type": "display_data"
    }
   ],
   "source": [
    "# Total_time  for sim\n",
    "T = 500 / 10**3 # secs \n",
    "# Total_time discretization\n",
    "dt = 0.01 / 10**3 # sec\n",
    "# Number of Total_time bins\n",
    "Total_time=np.arange(dt,T+dt,dt)\n",
    "\n",
    "# Neuron parameters\n",
    "u_rest = 0 / 10**3 # Volts\n",
    "u_thres = 20 / 10**3 # Volts\n",
    "tau_m = 10 / 10**3 # sec\n",
    "tau_v = 100 / 10**3 # sec\n",
    "R = 500 * 10**6 # Ohms\n",
    "\n",
    "# Adaptation parameters\n",
    "Num_synapses = 10**4\n",
    "w = Num_synapses * 1 / 10**12 # Amps\n",
    "a = 1 * 10**(-9) # S\n",
    "b = 1000 * 10**(-12) *10**3 # Amps \n",
    "\n",
    "\n",
    "# Input \n",
    "I = np.zeros_like(Total_time)\n",
    "start_stim = 0\n",
    "end_stim = T\n",
    "I[int(start_stim//dt):int(end_stim//dt)] = 0\n",
    "\n",
    "# Inhomogeneous rate for Poisson spike trains\n",
    "rx_e =  500 * (np.ones_like(Total_time)) # Hz\n",
    "\n",
    "# Inhomogeneous rate for Poisson spike trains\n",
    "rx_i =  500 * (np.ones_like(Total_time)) # Hz\n",
    "\n",
    "\n",
    "np.random.seed(10)\n",
    "\n",
    "sp_times = np.zeros(1)\n",
    "\n",
    "while len(sp_times) < 1000:\n",
    "    # Exc input\n",
    "    spike_time_x_e, spikes_x_e = inhomo_PoissonSpikeTrain(dt,T,rx_e,Total_time)\n",
    "    #Inh input\n",
    "    spike_time_x_i, spikes_x_i = inhomo_PoissonSpikeTrain(dt,T,rx_i,Total_time)\n",
    "\n",
    "    u, u_saved, v, s = EulerMethod_poisson_input_balanced(spikes_x_e,spikes_x_i,\n",
    "                                             u_rest,u_thres,dt,tau_m,tau_v,R,w,a,b,T,Total_time)\n",
    "    s = s + sp_times[-1]\n",
    "    sp_times = np.append(sp_times,s)\n",
    "    \n",
    "\n",
    "ISIs = np.diff(sp_times)\n",
    "pro = pd.DataFrame(ISIs)\n",
    "fig = plt.figure()\n",
    "pro_hist = sns.histplot(ISIs, kde=True)\n",
    "# plt.title('Histogram of expected times')\n",
    "plt.tight_layout()"
   ]
  },
  {
   "cell_type": "code",
   "execution_count": 7,
   "metadata": {},
   "outputs": [],
   "source": [
    "fig = pro_hist.get_figure()\n",
    "fig.savefig('2b.pdf',dpi=1200)"
   ]
  },
  {
   "cell_type": "code",
   "execution_count": null,
   "metadata": {},
   "outputs": [],
   "source": []
  }
 ],
 "metadata": {
  "kernelspec": {
   "display_name": "Python 3",
   "language": "python",
   "name": "python3"
  },
  "language_info": {
   "codemirror_mode": {
    "name": "ipython",
    "version": 3
   },
   "file_extension": ".py",
   "mimetype": "text/x-python",
   "name": "python",
   "nbconvert_exporter": "python",
   "pygments_lexer": "ipython3",
   "version": "3.8.6"
  }
 },
 "nbformat": 4,
 "nbformat_minor": 4
}
